{
 "cells": [
  {
   "cell_type": "code",
   "execution_count": null,
   "metadata": {
    "vscode": {
     "languageId": "plaintext"
    }
   },
   "outputs": [],
   "source": [
    "pip install opencv-python numpy pytesseract tensorflow keras streamlit\n"
   ]
  },
  {
   "cell_type": "markdown",
   "metadata": {},
   "source": [
    "La estuctura del proyecto deberia ser la siguiente: \n",
    "    grading_cartas/\n",
    "    │── data/                  # Aquí irán las imágenes de cartas para entrenar el modelo\n",
    "    │── models/                # Guardaremos el modelo entrenado\n",
    "    │── src/                   # Código fuente\n",
    "    │   ├── preprocess.py      # Procesamiento de imágenes\n",
    "    │   ├── ocr.py             # Extracción de texto\n",
    "    │   ├── grading.py         # Asignación de puntuaciones\n",
    "    │   ├── train_model.py     # Entrenamiento de la CNN\n",
    "    │   ├── app.py             # Interfaz gráfica con Streamlit\n",
    "    │── main.py                # Script principal\n",
    "    └── README.md              # Documentación\n"
   ]
  }
 ],
 "metadata": {
  "language_info": {
   "name": "python"
  }
 },
 "nbformat": 4,
 "nbformat_minor": 2
}
